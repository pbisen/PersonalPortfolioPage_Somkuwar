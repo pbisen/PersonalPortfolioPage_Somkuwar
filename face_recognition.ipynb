{
  "nbformat": 4,
  "nbformat_minor": 0,
  "metadata": {
    "colab": {
      "name": "face_recognition.ipynb",
      "provenance": [],
      "authorship_tag": "ABX9TyMD8MrYyNZOvpZcluGAt4Wr",
      "include_colab_link": true
    },
    "kernelspec": {
      "name": "python3",
      "display_name": "Python 3"
    }
  },
  "cells": [
    {
      "cell_type": "markdown",
      "metadata": {
        "id": "view-in-github",
        "colab_type": "text"
      },
      "source": [
        "<a href=\"https://colab.research.google.com/github/somkuwaryash/PersonalPortfolioPage_Somkuwar/blob/master/face_recognition.ipynb\" target=\"_parent\"><img src=\"https://colab.research.google.com/assets/colab-badge.svg\" alt=\"Open In Colab\"/></a>"
      ]
    },
    {
      "cell_type": "code",
      "metadata": {
        "id": "P0yWT-0TDsiq"
      },
      "source": [
        "import cv2\n",
        "import os\n",
        "import numpy as np\n",
        "\n",
        "def faceDetection(test_img):\n",
        "    gray_img=cv2.cvtColor(test_img,cv2.COLOR_BGR2GRAY)\n",
        "    face_haar_cascade=cv2.CascadeClassifier('haarcascade_frontalface_default.xml')\n",
        "    faces=face_haar_cascade.detechMultiScale(gray_img,scaleFactor=1.32,minNeighbors=5)\n",
        "    \n",
        "    return face,gray_img"
      ],
      "execution_count": null,
      "outputs": []
    }
  ]
}